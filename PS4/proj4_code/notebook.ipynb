{
 "cells": [
  {
   "cell_type": "markdown",
   "metadata": {
    "colab_type": "text",
    "id": "HwGPlcXi22Ea"
   },
   "source": [
    "# Hough Transform\n",
    "\n",
    "The Hough transform is a feature extraction technique used in image analysis, computer vision, and digital image processing. The purpose of the technique is to find imperfect instances of objects within a certain class of shapes by a voting procedure. This voting procedure is carried out in a parameter space, from which object candidates are obtained as local maxima in a so-called accumulator space that is explicitly constructed by the algorithm for computing the Hough transform.\n",
    "\n",
    "![alt text](ideal.jfif \"Title\")\n",
    "\n",
    "Source: Wikipedia \n",
    "Image source: Google Images"
   ]
  },
  {
   "cell_type": "markdown",
   "metadata": {},
   "source": [
    "## Submission\n",
    "\n",
    "You can code directly in the notebook - no more switching between tabs (Thank us later) \n",
    "\n",
    "All submissions will be via Gradescope. If you're completing this assignment in Jupyter Notebook, you must run the `notebook2script.py` file to export your work to a python file. To generate your submission file, run the command \n",
    "\n",
    "`python notebook2script.py ./`\n",
    "\n",
    "and your file will be created under the `submission` directory.\n",
    "\n",
    "PLEASE DON'T REMOVE THE #export FROM ANY CELL"
   ]
  },
  {
   "cell_type": "markdown",
   "metadata": {},
   "source": [
    "# Setup\n",
    "\n",
    "Use the cell below to load the required libraries (You are not allowed to use anything other than cv2 and numpy)"
   ]
  },
  {
   "cell_type": "code",
   "execution_count": null,
   "metadata": {},
   "outputs": [],
   "source": [
    "#export\n",
    "import cv2 #Only to be used for Canny Edge Detector\n",
    "import numpy as np\n",
    "import test_simple as tests\n",
    "Checker = tests.PS02Test()"
   ]
  },
  {
   "cell_type": "markdown",
   "metadata": {},
   "source": [
    "# Part 1: Traffic Light [15 points]"
   ]
  },
  {
   "cell_type": "code",
   "execution_count": null,
   "metadata": {
    "colab": {},
    "colab_type": "code",
    "id": "d9hV8TsJ08xo"
   },
   "outputs": [],
   "source": [
    "#export\n",
    "def traffic_light_detection(img_in, radii_range):\n",
    "    \"\"\"Finds the coordinates of a traffic light image given a radii\n",
    "    range.\n",
    "    Use the radii range to find the circles in the traffic light and\n",
    "    identify which of them represents the yellow light.\n",
    "    Analyze the states of all three lights and determine whether the\n",
    "    traffic light is red, yellow, or green. This will be referred to\n",
    "    as the 'state'.\n",
    "    It is recommended you use Hough transform to find these circles in\n",
    "    the image.\n",
    "    The input image may be just the traffic light with a white\n",
    "    background or a larger image of a scene containing a traffic\n",
    "    light.\n",
    "    Args:\n",
    "        img_in (numpy.array BGR): image containing a traffic light.\n",
    "        radii_range (list): range of radii values to search for.\n",
    "    Returns:\n",
    "        tuple: 2-element tuple containing:\n",
    "        coordinates (tuple): traffic light center using the (x, y)\n",
    "                             convention.\n",
    "        state (str): traffic light state. A value in {'red', 'yellow',\n",
    "                     'green'}\n",
    "        Numpy array: Height x Width matrix of Hough accumulator array  (Height and width from the image)\n",
    "        (Return the Hough space for the radius which matches with the traffic lights)\n",
    "    \"\"\"\n",
    "    raise NotImplementedError"
   ]
  },
  {
   "cell_type": "markdown",
   "metadata": {},
   "source": [
    "## Run the tests below to verify your code"
   ]
  },
  {
   "cell_type": "code",
   "execution_count": null,
   "metadata": {},
   "outputs": [],
   "source": [
    "##### CODE BELOW IS USED FOR RUNNING LOCAL TEST - COMMENT/UNCOMMENT TESTS WHILE DEBUGGING ######\n",
    "Checker.testTrafficLightBlank(traffic_light_detection)\n",
    "Checker.testTrafficLightScene(traffic_light_detection)\n",
    "#Don't worry about the color reversal in your plots\n",
    "################ END OF LOCAL TEST CODE SECTION ################################################"
   ]
  },
  {
   "cell_type": "markdown",
   "metadata": {},
   "source": [
    "# Part 2: Traffic Signs one per scene [25 points]"
   ]
  },
  {
   "cell_type": "code",
   "execution_count": null,
   "metadata": {
    "colab": {},
    "colab_type": "code",
    "id": "pyM15RIo0_uy"
   },
   "outputs": [],
   "source": [
    "#export\n",
    "def yield_sign_detection(img_in):\n",
    "    \"\"\"Finds the centroid coordinates of a yield sign in the provided\n",
    "    image.\n",
    "    Args:\n",
    "        img_in (numpy.array BGR): image containing a traffic light.\n",
    "    Returns:\n",
    "        (x,y) tuple of coordinates of the center of the yield sign.\n",
    "        Numpy array: Height x Width matrix of Hough accumulator array  (Height and width from the image)\n",
    "    \"\"\"\n",
    "    raise NotImplementedError"
   ]
  },
  {
   "cell_type": "code",
   "execution_count": null,
   "metadata": {
    "colab": {},
    "colab_type": "code",
    "id": "mF_roc9E1LUX"
   },
   "outputs": [],
   "source": [
    "#export\n",
    "def stop_sign_detection(img_in):\n",
    "    \"\"\"Finds the centroid coordinates of a stop sign in the provided\n",
    "    image.\n",
    "    Args:\n",
    "        img_in (numpy.array BGR): image containing a traffic light.\n",
    "    Returns:\n",
    "        (x,y) tuple of the coordinates of the center of the stop sign.\n",
    "        Numpy array: Height x Width matrix of Hough accumulator array  (Height and width from the image)\n",
    "    \"\"\"\n",
    "    raise NotImplementedError"
   ]
  },
  {
   "cell_type": "code",
   "execution_count": null,
   "metadata": {
    "colab": {},
    "colab_type": "code",
    "id": "Srsc-aJX1OtA"
   },
   "outputs": [],
   "source": [
    "#export\n",
    "def warning_sign_detection(img_in):\n",
    "    \"\"\"Finds the centroid coordinates of a warning sign in the\n",
    "    provided image.\n",
    "    Args:\n",
    "        img_in (numpy.array BGR): image containing a traffic light.\n",
    "    Returns:\n",
    "        (x,y) tuple of the coordinates of the center of the sign.\n",
    "        Numpy array: Height x Width matrix of Hough accumulator array  (Height and width from the image)\n",
    "    \"\"\"\n",
    "    raise NotImplementedError"
   ]
  },
  {
   "cell_type": "code",
   "execution_count": null,
   "metadata": {
    "colab": {},
    "colab_type": "code",
    "id": "84thl5Qb1S3F"
   },
   "outputs": [],
   "source": [
    "#export\n",
    "def construction_sign_detection(img_in):\n",
    "    \"\"\"Finds the centroid coordinates of a construction sign in the\n",
    "    provided image.\n",
    "    Args:\n",
    "        img_in (numpy.array BGR): image containing a traffic light.\n",
    "    Returns:\n",
    "        (x,y) tuple of the coordinates of the center of the sign.\n",
    "        Numpy array: Height x Width matrix of Hough accumulator array  (Height and width from the image)\n",
    "    \"\"\"\n",
    "    raise NotImplementedError"
   ]
  },
  {
   "cell_type": "code",
   "execution_count": null,
   "metadata": {
    "colab": {},
    "colab_type": "code",
    "id": "4o02dghb1VQP"
   },
   "outputs": [],
   "source": [
    "#export\n",
    "def do_not_enter_sign_detection(img_in):\n",
    "    \"\"\"Find the centroid coordinates of a do not enter sign in the\n",
    "    provided image.\n",
    "    Args:\n",
    "        img_in (numpy.array BGR): image containing a traffic light.\n",
    "    Returns:\n",
    "        (x,y) typle of the coordinates of the center of the sign.\n",
    "        Numpy array: Height x Width matrix of Hough accumulator array  (Height and width from the image)\n",
    "    \"\"\"\n",
    "    raise NotImplementedError"
   ]
  },
  {
   "cell_type": "markdown",
   "metadata": {},
   "source": [
    "## Run the tests below to verify your code and generate output"
   ]
  },
  {
   "cell_type": "code",
   "execution_count": null,
   "metadata": {},
   "outputs": [],
   "source": [
    "##### CODE BELOW IS USED FOR RUNNING LOCAL TEST - COMMENT/UNCOMMENT TESTS WHILE DEBUGGING ######\n",
    "Checker.testStopSignBlank(stop_sign_detection)\n",
    "Checker.testWarningSignBlank(warning_sign_detection)\n",
    "Checker.testConstructionSignBlank(construction_sign_detection)\n",
    "Checker.testDoNotEnterSignBlank(do_not_enter_sign_detection)\n",
    "Checker.testYieldSignBlank(yield_sign_detection)\n",
    "#Don't worry about the color reversal in your plots\n",
    "################ END OF LOCAL TEST CODE SECTION ################################################"
   ]
  },
  {
   "cell_type": "markdown",
   "metadata": {},
   "source": [
    "# Part 3: Multiple signs in a scene [10 points]"
   ]
  },
  {
   "cell_type": "code",
   "execution_count": null,
   "metadata": {
    "colab": {},
    "colab_type": "code",
    "id": "2isD70LA1ZD6"
   },
   "outputs": [],
   "source": [
    "#export\n",
    "def traffic_sign_detection(img_in):\n",
    "    \"\"\"Finds all traffic signs in a synthetic image.\n",
    "    The image may contain at least one of the following:\n",
    "    - traffic_light\n",
    "    - no_entry\n",
    "    - stop\n",
    "    - warning\n",
    "    - yield\n",
    "    - construction\n",
    "    Use these names for your output.\n",
    "    See the instructions document for a visual definition of each\n",
    "    sign.\n",
    "    (Hint: Use all the functions defined above)\n",
    "    Args:\n",
    "        img_in (numpy.array BGR): input image containing at least one\n",
    "                              traffic sign.\n",
    "    Returns:\n",
    "        dict: dictionary containing only the signs present in the\n",
    "              image along with their respective centroid coordinates\n",
    "              as tuples.\n",
    "              For example: {'stop': (1, 3), 'yield': (4, 11)}\n",
    "              These are just example values and may not represent a\n",
    "              valid scene.\n",
    "    \"\"\"\n",
    "    raise NotImplementedError"
   ]
  },
  {
   "cell_type": "markdown",
   "metadata": {},
   "source": [
    "## Run the tests below to verify your code and generate output"
   ]
  },
  {
   "cell_type": "code",
   "execution_count": null,
   "metadata": {},
   "outputs": [],
   "source": [
    "##### CODE BELOW IS USED FOR RUNNING LOCAL TEST - COMMENT/UNCOMMENT TESTS WHILE DEBUGGING ######\n",
    "Checker.testTrafficSignScene(traffic_sign_detection)\n",
    "#Don't worry about the color reversal in your plots\n",
    "################ END OF LOCAL TEST CODE SECTION ################################################"
   ]
  },
  {
   "cell_type": "markdown",
   "metadata": {},
   "source": [
    "# Part 4: Extra Credit for CS 4476/ Regular section for CS 6476 [20 points]\n",
    "\n",
    "Let's move on to the real world because you are not in a simulation. Don't believe Elon Musk."
   ]
  },
  {
   "cell_type": "code",
   "execution_count": null,
   "metadata": {},
   "outputs": [],
   "source": [
    "#export\n",
    "def detectCircles(im, radius, useGradient = False):\n",
    "    \"\"\"\n",
    "    Args:\n",
    "        im (numpy.array RGB):the input image\n",
    "        radius : specifies the radius of the circle \n",
    "        useGradient: a flag that allows the user to optionally exploit the gradient direction measured at the edgepoints.\n",
    "    (Caution: Your x,y maybe swapped)\n",
    "    Returns:\n",
    "        Numpy array: N x 2 matrix in which each row lists the (x,y) position of a detectedcircles’ center\n",
    "        Numpy array: Height x Width matrix of Hough accumulator array  (Height and width from the image)\n",
    "    \n",
    "    \"\"\"\n",
    "    raise NotImplementedError    "
   ]
  },
  {
   "cell_type": "markdown",
   "metadata": {},
   "source": [
    "## Run the tests below to verify your code and generate output"
   ]
  },
  {
   "cell_type": "code",
   "execution_count": null,
   "metadata": {},
   "outputs": [],
   "source": [
    "##### CODE BELOW IS USED FOR RUNNING LOCAL TEST - COMMENT/UNCOMMENT TESTS WHILE DEBUGGING ######\n",
    "Checker.testHoughtransform(detectCircles) #You can modify the radius and centers in tests file\n",
    "Checker.testHoughtransformwithgradient(detectCircles) # You can modify the radius and centers in the tests file\n",
    "################ END OF LOCAL TEST CODE SECTION ################################################"
   ]
  },
  {
   "cell_type": "markdown",
   "metadata": {},
   "source": [
    "# (Optional) Bonus section for CS 4476/6476 [10 points]: "
   ]
  },
  {
   "cell_type": "code",
   "execution_count": null,
   "metadata": {},
   "outputs": [],
   "source": [
    "#export\n",
    "def  detectMultipleCircles(im, radius_min,radius_max):\n",
    "    \"\"\"\n",
    "    Args:\n",
    "        im (numpy.array RGB):the input image\n",
    "        radius_min : specifies the minimum radius of the circle \n",
    "        radius_max : specifies the maximum radius of the circle\n",
    "       \n",
    "    (Caution: Your x,y maybe swapped)\n",
    "    Returns:\n",
    "        Numpy array: N x 2 matrix in which each row lists the (x,y) position of a detectedcircles’ center\n",
    "        Numpy array: Height x Width matrix of Hough accumulator array (Height and width from the image)\n",
    "    \n",
    "    \"\"\"\n",
    "    raise NotImplementedError"
   ]
  },
  {
   "cell_type": "markdown",
   "metadata": {},
   "source": [
    "## Run the tests below to verify your code and generate output"
   ]
  },
  {
   "cell_type": "code",
   "execution_count": null,
   "metadata": {},
   "outputs": [],
   "source": [
    "##### CODE BELOW IS USED FOR RUNNING LOCAL TEST - COMMENT/UNCOMMENT TESTS WHILE DEBUGGING ######\n",
    "Checker.testHoughtransformMultiple(detectMultipleCircles)\n",
    "################ END OF LOCAL TEST CODE SECTION ################################################"
   ]
  }
 ],
 "metadata": {
  "colab": {
   "collapsed_sections": [],
   "name": "Hough's transform.ipynb",
   "provenance": []
  },
  "kernelspec": {
   "display_name": "Python 3",
   "language": "python",
   "name": "python3"
  },
  "language_info": {
   "codemirror_mode": {
    "name": "ipython",
    "version": 3
   },
   "file_extension": ".py",
   "mimetype": "text/x-python",
   "name": "python",
   "nbconvert_exporter": "python",
   "pygments_lexer": "ipython3",
   "version": "3.8.1"
  }
 },
 "nbformat": 4,
 "nbformat_minor": 1
}
