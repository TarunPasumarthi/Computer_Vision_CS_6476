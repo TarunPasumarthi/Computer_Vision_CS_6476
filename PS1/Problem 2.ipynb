{
 "cells": [
  {
   "cell_type": "code",
   "execution_count": 29,
   "metadata": {},
   "outputs": [],
   "source": [
    "import matplotlib.pyplot as plt\n",
    "import numpy as np\n",
    "%matplotlib inline"
   ]
  },
  {
   "cell_type": "code",
   "execution_count": 46,
   "metadata": {},
   "outputs": [
    {
     "data": {
      "image/png": "[encoded data removed]",
      "text/plain": [
       "<Figure size 504x504 with 2 Axes>"
      ]
     },
     "metadata": {
      "needs_background": "light"
     },
     "output_type": "display_data"
    }
   ],
   "source": [
    "import numpy as np\n",
    "import matplotlib.pyplot as plt\n",
    "\n",
    "class Prob2():\n",
    "    def __init__(self):\n",
    "        \"\"\"Load inputAPS1Q2.npy here as a class variable A.\"\"\"\n",
    "        ###### START CODE HERE ######\n",
    "        self.A= np.load('inputAPS1Q2.npy')\n",
    "        self.fig, self.axs = plt.subplots(2)\n",
    "        self.fig.set_size_inches(7, 7)\n",
    "        ###### END CODE HERE ######\n",
    "        pass\n",
    "        \n",
    "    def prob_2_1(self):\n",
    "        \"\"\"Do plotting of intensities of A in decreasing value.\"\"\"\n",
    "        ###### START CODE HERE ######\n",
    "        flat=self.A.flatten()\n",
    "        sortedList=list(flat)\n",
    "        sortedList.sort(reverse=True)\n",
    "        arr=np.array([sortedList])\n",
    "        width=arr.shape[1]\n",
    "        height=arr.shape[1]/20\n",
    "        self.axs[0].imshow(arr, cmap=plt.get_cmap('gray'), extent=(0, width, 0, height))\n",
    "        self.axs[0].title.set_text(\"2.1 Intensity Plot\")\n",
    "        self.axs[0].get_yaxis().set_visible(False)\n",
    "        ###### END CODE HERE ######\n",
    "        pass\n",
    "    \n",
    "    def prob_2_2(self):\n",
    "        \"\"\"Display histogram of A's intensities with 20 bins here.\"\"\"\n",
    "        ###### START CODE HERE ######\n",
    "        flat=self.A.flatten()\n",
    "        fig=plt.hist(flat, bins=20, edgecolor='black', linewidth=1.2)\n",
    "        plt.title('2.2 Intensity Histogram')\n",
    "        plt.xlabel(\"Intensity Range\")\n",
    "        plt.ylabel(\"Frequency\")\n",
    "        plt.savefig(\"2_2.png\")\n",
    "        plt.show()\n",
    "        ###### END CODE HERE ######\n",
    "        pass\n",
    "    \n",
    "    def prob_2_3(self):\n",
    "        \"\"\"\n",
    "        Create a new matrix X that consists of the bottom left quadrant of A here.\n",
    "        Returns:\n",
    "            X: bottom left quadrant of A which is of size 50 x 50\n",
    "        \"\"\"\n",
    "        ###### START CODE HERE ######\n",
    "        half_rows=int(self.A.shape[0]/2)\n",
    "        half_cols=int(self.A.shape[1]/2)\n",
    "        X=self.A[half_rows:,:half_cols]\n",
    "        ###### END CODE HERE ######\n",
    "        pass \n",
    "    \n",
    "        return X \n",
    "    \n",
    "    def prob_2_4(self):\n",
    "        \"\"\"Create a new matrix Y, which is the same as A, but with A’s mean intensity value subtracted from each pixel.\n",
    "        Returns:\n",
    "            Y: A with A's mean intensity subtracted from each pixel. Output Y is of size 100 x 100.\n",
    "        \"\"\"\n",
    "        ###### START CODE HERE ######\n",
    "        avg=self.A.mean()\n",
    "        Y=self.A-avg\n",
    "        ###### END CODE HERE ######\n",
    "        pass\n",
    "    \n",
    "        return Y\n",
    "    \n",
    "    def prob_2_5(self):\n",
    "        \"\"\"\n",
    "        Create your threshholded A i.e Z here.\n",
    "        Returns:\n",
    "            Z: A with only red pixels when the original value of the pixel is above the threshhold. Output Z is of size 100 x 100.\n",
    "        \"\"\"\n",
    "        ###### START CODE HERE ######\n",
    "        avg=self.A.mean()\n",
    "        Z=self.A\n",
    "        Z[Z > avg] = 1\n",
    "        Z[Z <= avg] = 0\n",
    "        bg=np.zeros((100,100))\n",
    "        Z=np.dstack((Z,bg,bg))\n",
    "        fig=plt.imshow(Z)\n",
    "        plt.savefig(\"outputZPS1Q2.png\")\n",
    "        plt.close()\n",
    "        ###### END CODE HERE ######\n",
    "        pass\n",
    "    \n",
    "        return Z\n",
    "        \n",
    "        \n",
    "        \n",
    "if __name__ == '__main__':\n",
    "    \n",
    "    p2 = Prob2()\n",
    "    \n",
    "    p2.prob_2_1()\n",
    "    p2.prob_2_2()\n",
    "    \n",
    "    X = p2.prob_2_3()\n",
    "    Y = p2.prob_2_4()\n",
    "    Z = p2.prob_2_5()"
   ]
  }
 ],
 "metadata": {
  "kernelspec": {
   "display_name": "Python 3",
   "language": "python",
   "name": "python3"
  },
  "language_info": {
   "codemirror_mode": {
    "name": "ipython",
    "version": 3
   },
   "file_extension": ".py",
   "mimetype": "text/x-python",
   "name": "python",
   "nbconvert_exporter": "python",
   "pygments_lexer": "ipython3",
   "version": "3.7.3"
  }
 },
 "nbformat": 4,
 "nbformat_minor": 2
}
