{
 "cells": [
  {
   "cell_type": "code",
   "execution_count": 1,
   "metadata": {},
   "outputs": [
    {
     "name": "stdout",
     "output_type": "stream",
     "text": [
      "[5. 6. 3. 1. 5. 5. 4. 4. 5. 2. 5. 3.]\n"
     ]
    }
   ],
   "source": [
    "#1.1 Use numpy.random.rand to return the roll of a six-sided die over N trials. \n",
    "\n",
    "import numpy as np\n",
    "\n",
    "def prob_1_1(N):\n",
    "    \"\"\"\n",
    "    Args: N: the number of trials. \n",
    "    Returns: arr: array of rolls.\n",
    "    \"\"\"\n",
    "\n",
    "    ### START CODE HERE ###\n",
    "    arr=np.random.rand(N)\n",
    "    arr=np.ceil(arr*6)\n",
    "    ### END CODE HERE ###\n",
    "\n",
    "    return arr\n",
    "\n",
    "\n",
    "print(prob_1_1(12))"
   ]
  },
  {
   "cell_type": "code",
   "execution_count": 3,
   "metadata": {},
   "outputs": [
    {
     "name": "stdout",
     "output_type": "stream",
     "text": [
      "[[11 22]\n",
      " [33 44]\n",
      " [55 66]]\n"
     ]
    }
   ],
   "source": [
    "#1.2 Let y be the vector: y = np.array([11, 22, 33, 44, 55, 66]). \n",
    "#Use the reshape command to form a new matrix z that looks like this: [[11,22],[33,44],[55,66]]\n",
    "        \n",
    "def prob_1_2(y):\n",
    "    \"\"\"\n",
    "    Args: y: numpy array. \n",
    "    Returns: z: numpy array of shape (new_size,2).\n",
    "    \"\"\"\n",
    "\n",
    "    ### START CODE HERE ###\n",
    "    rows=int(y.shape[0]/2)\n",
    "    z=y.reshape((rows, 2))\n",
    "    ### END CODE HERE ###\n",
    "\n",
    "    return z\n",
    "\n",
    "y = np.array([11, 22, 33, 44, 55, 66])\n",
    "z=prob_1_2(y)\n",
    "print(z)"
   ]
  },
  {
   "cell_type": "code",
   "execution_count": 4,
   "metadata": {},
   "outputs": [
    {
     "name": "stdout",
     "output_type": "stream",
     "text": [
      "(66, 2, 1)\n"
     ]
    }
   ],
   "source": [
    "#1.3 Use the numpy.max and numpy.where functions to set x to the maximum value that occurs in z (above),\n",
    "#and set r to the row number (0-indexed) it occurs in and c to the column number (0-indexed) it occurs in. \n",
    "\n",
    "def prob_1_3(z):\n",
    "    \"\"\"\n",
    "    Args: z: numpy array of shape (3,2).\n",
    "    Returns: x: max value in z.\n",
    "    r: row index of x.\n",
    "    c: column index of x.\n",
    "    \"\"\"\n",
    "\n",
    "    ### START CODE HERE ###\n",
    "    x=np.max(z)\n",
    "    g=np.where(z == x)\n",
    "    r,c=g\n",
    "    r=r[0]\n",
    "    c=c[0]\n",
    "    ### END CODE HERE ###\n",
    "\n",
    "    return (x, r, c)\n",
    "\n",
    "print(prob_1_3(z))"
   ]
  },
  {
   "cell_type": "code",
   "execution_count": 5,
   "metadata": {},
   "outputs": [
    {
     "name": "stdout",
     "output_type": "stream",
     "text": [
      "4\n"
     ]
    }
   ],
   "source": [
    "#1.4 Let v be the vector: v = np.array([1, 4, 7, 1, 2, 6, 8, 1, 9]). \n",
    "#Set a new variable x to be the number of 1’s in the vector v.\n",
    "\n",
    "def prob_1_4(v):\n",
    "    \"\"\"\n",
    "    Args: v: numpy array. \n",
    "    Returns: x: number of 1’s in v.\n",
    "    \"\"\"\n",
    "\n",
    "    ### START CODE HERE ###\n",
    "    x=list(v).count(1)\n",
    "    ### END CODE HERE ###\n",
    "\n",
    "    return x\n",
    "\n",
    "v = np.array([1, 4, 7, 1, 2, 6, 8, 1, 9,1])\n",
    "print(prob_1_4(v))"
   ]
  },
  {
   "cell_type": "code",
   "execution_count": null,
   "metadata": {},
   "outputs": [],
   "source": []
  }
 ],
 "metadata": {
  "kernelspec": {
   "display_name": "Python 3",
   "language": "python",
   "name": "python3"
  },
  "language_info": {
   "codemirror_mode": {
    "name": "ipython",
    "version": 3
   },
   "file_extension": ".py",
   "mimetype": "text/x-python",
   "name": "python",
   "nbconvert_exporter": "python",
   "pygments_lexer": "ipython3",
   "version": "3.7.3"
  }
 },
 "nbformat": 4,
 "nbformat_minor": 2
}
